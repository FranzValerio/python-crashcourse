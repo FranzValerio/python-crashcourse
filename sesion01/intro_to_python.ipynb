{
 "cells": [
  {
   "cell_type": "markdown",
   "metadata": {},
   "source": [
    "<p align = \"center\">\n",
    "    <img src=\"https://upload.wikimedia.org/wikipedia/commons/thumb/c/c3/Python-logo-notext.svg/438px-Python-logo-notext.svg.png\" />\n",
    "</p>\n",
    "\n",
    "# Introducción a Python\n",
    "\n",
    "Actualmente, Python es el lenguaje de programación más popular para construir proyectos de machine learning. Python se destaca por su sintaxis clara y legible, lo que facilita el aprendizaje para los principiantes, al mismo tiempo que ofrece una profundidad impresionante para los programadores experimentados. Este curso está diseñado para llevarte desde los conceptos básicos hasta los aspectos más avanzados de Python, asegurando que adquieras una comprensión sólida y habilidades prácticas en el camino.\n",
    "\n",
    "Comenzaremos con los fundamentes, introduciendo las variables y tipos de datos. Aprenderás cómo Python utiliza variables para almacenar información, desde números y cadenas hasta valores booleanos, permitiéndote manipular y trabajar con datos de manera efectiva. \n",
    "\n",
    "Python ofrece una variedad de tipos de colecciones, como listas, tuplas, diccionarios y conjuntos. Aprenderás a organizar, almacenar y manipular datos de manera eficiente, lo cual es crucial para resolver problemas complejos de programación.\n",
    "\n",
    "Posteriormente,  exploraremos cómo Python maneja el flujo de control, incluyendo estructuras condicionales como `if`, `elif`, y `else`, así como bucles `for` y `while`. Estas herramientas son esenciales para tomar decisiones y repetir tareas en tu código.\n",
    "\n",
    "Con estas herramientas veremos cómo crear y utilizar funciones. Las funciones son bloques de código reutilizables que te ayudan a organizar mejor tu código y a realizar tareas específicas. Descubrirás cómo definir tus propias funciones, pasar argumentos y devolver valores.\n",
    "\n",
    "Python es un lenguaje orientado a objetos, y comprender este paradigma es fundamental. Te introduciremos en el concepto de clases, objetos, herencia, y polimorfismo, permitiéndote modelar el mundo real de manera más efectiva en tus programas.\n",
    "\n",
    "Una gran fortaleza de Python es su vasto ecosistema de bibliotecas que extienden su funcionalidad básica. Aprenderás cómo importar y utilizar bibliotecas para tareas como análisis de datos, visualización, desarrollo web, y mucho más.\n",
    "\n",
    "Finalmente, profundizaremos en algunos de los métodos más útiles proporcionados por módulos incorporados como `str` para el manejo de cadenas, explorando cómo puedes manipular texto, realizar búsquedas, y generar salida en formatos específicos.\n",
    "\n",
    "¡Comencemos! :)\n",
    "\n",
    "## Variables\n",
    "\n",
    "Como en la mayoría de los lenguajes de programación, Python está compuesto por una serie de elementos que alimentan su estructura. El primer elemento que veremos son las *variables*. Una variable es un espacio donde se almacenan datos en la memoria de una computadora, una ventaja de las variables es que los datos que contiene pueden modificarse.\n",
    "\n",
    "En Python, una variable se define con la siguiente sintaxis:\n",
    "\n",
    "`nombre_de_la_variable = valor`\n",
    "\n",
    "Cada variable tiene su nombre y su valor, el cual, a su vez, define el tipo de datos que almacena dicha variable. \n",
    "\n",
    "Existe un tipoo especial de variable denominada *constante* la cual se utiliza para definir valores fijos que no requieren ser modificados. \n",
    "\n",
    "Algo importante a destacar es que hay un par de consejos (reglas) a seguir al momento de definir variables, las cuales son:\n",
    "\n",
    "- Para nombrarlas, es recomendable utilizar nombres descriptivos y en minúsculas. Si la variable tiene un nombre compuesto (de dos palabras o más), es aconsejable separarla por guiones bajos.\n",
    "\n",
    "- Antes y después del operador de asignación, `=`, se debe dejar un espacio en blanco.\n",
    "\n",
    "Ejemplo:"
   ]
  },
  {
   "cell_type": "code",
   "execution_count": 1,
   "metadata": {},
   "outputs": [],
   "source": [
    "mi_variable = 42"
   ]
  },
  {
   "cell_type": "markdown",
   "metadata": {},
   "source": [
    "Al ejecutar la celda se ha almacenado la variable `mi_variable` y se le ha asignado el número `42`. Para mostrar el contenido de la variable podemos utilizar la función `print()`."
   ]
  },
  {
   "cell_type": "code",
   "execution_count": 2,
   "metadata": {},
   "outputs": [
    {
     "name": "stdout",
     "output_type": "stream",
     "text": [
      "42\n"
     ]
    }
   ],
   "source": [
    "print(mi_variable)"
   ]
  },
  {
   "cell_type": "markdown",
   "metadata": {},
   "source": [
    "Como mencionamos, una variable puede ser constante o contener valores de distintos tipos, entre ellos se encuentran:\n",
    "\n",
    "- Cadenas de texto o strings (`str`)\n",
    "\n",
    "Para declarar este tipo de variable es necesario escribir el contenido entre comillas simples (' ') o dobles (\" \").\n",
    "\n",
    "Ejemplo:"
   ]
  },
  {
   "cell_type": "code",
   "execution_count": 3,
   "metadata": {},
   "outputs": [
    {
     "name": "stdout",
     "output_type": "stream",
     "text": [
      "¡Hola crayola!\n"
     ]
    }
   ],
   "source": [
    "mi_string = '¡Hola crayola!'\n",
    "\n",
    "print(mi_string)"
   ]
  },
  {
   "cell_type": "markdown",
   "metadata": {},
   "source": [
    "El contenido de las strings es texto, por lo que podemos almacenar información textual en forma de una variable. Y no sólo se limita a oraciones simples, también se pueden almacenar párrafos. Para ello, debemos utilizar dos veces las comillas.\n",
    "\n",
    "Ejemplo:"
   ]
  },
  {
   "cell_type": "code",
   "execution_count": 4,
   "metadata": {},
   "outputs": [
    {
     "name": "stdout",
     "output_type": "stream",
     "text": [
      "El amo le ha dado a Dobby un calcetín...\n",
      "¡Dobby es libre!\n"
     ]
    }
   ],
   "source": [
    "text = \"\"\"El amo le ha dado a Dobby un calcetín...\n",
    "¡Dobby es libre!\"\"\"\n",
    "\n",
    "print(text)"
   ]
  },
  {
   "cell_type": "markdown",
   "metadata": {},
   "source": [
    "- Números enteros (`int`)\n",
    "\n",
    "Otro tipo de variable son los números enteros. Un aspecto importante de este tipo de dato es que al ser entero no tiene parte fraccionaria. Algunas versiones de Python no dividen números enteros. Sin embargo, para Python 3.0 y versiones posteriores, la situación se ha ido modificando y ya no arroja errores de ejecución cuando se declaran divisiones entre enteros. El ejemplo de esta variable es la primera que creamos: `mi_variable`.\n",
    "\n",
    "- Números flotantes (`float`)\n",
    "\n",
    "Los datos tipo `float` son números reales, por lo que pueden ser positivos, negativos, racionales o irracionales. \n",
    "\n",
    "Ejemplo:"
   ]
  },
  {
   "cell_type": "code",
   "execution_count": 5,
   "metadata": {},
   "outputs": [
    {
     "name": "stdout",
     "output_type": "stream",
     "text": [
      "69.42\n"
     ]
    }
   ],
   "source": [
    "num_float = 69.420\n",
    "\n",
    "print(num_float)"
   ]
  },
  {
   "cell_type": "markdown",
   "metadata": {},
   "source": [
    "- Booleanos (`bool`)\n",
    "\n",
    "También, existen las variables que contienen datos lógicos. Python permite la asignación de variables a valores booleanos, lo que nos permite realizar operaciones lógicas (conocidas como *álgebra de Boole*) dentro de nuestros códigos.\n",
    "\n",
    "La sintaxis a utilizar para este tipo de datos es que después del operador de asignación `=` se escriba `True` o `False`, dependiendo del valor de verdad que se desee asignar.\n",
    "\n",
    "Ejemplo:"
   ]
  },
  {
   "cell_type": "code",
   "execution_count": 6,
   "metadata": {},
   "outputs": [
    {
     "name": "stdout",
     "output_type": "stream",
     "text": [
      "True\n",
      "False\n"
     ]
    }
   ],
   "source": [
    "paco_es_el_mejor = True\n",
    "\n",
    "beto_tiene_pelo_largo = False\n",
    "\n",
    "print(paco_es_el_mejor)\n",
    "print(beto_tiene_pelo_largo)"
   ]
  },
  {
   "cell_type": "markdown",
   "metadata": {},
   "source": [
    "¿Cómo sabemos si una variable es de un tipo u otro? Python tiene una función interna que nos permite saberlo. La función se llama `type()` y para utilizarla debemos pasar como argumento la variable en cuestión.\n",
    "\n",
    "Ejemplo:"
   ]
  },
  {
   "cell_type": "code",
   "execution_count": 7,
   "metadata": {},
   "outputs": [
    {
     "data": {
      "text/plain": [
       "int"
      ]
     },
     "execution_count": 7,
     "metadata": {},
     "output_type": "execute_result"
    }
   ],
   "source": [
    "type(mi_variable)"
   ]
  },
  {
   "cell_type": "code",
   "execution_count": 8,
   "metadata": {},
   "outputs": [
    {
     "data": {
      "text/plain": [
       "str"
      ]
     },
     "execution_count": 8,
     "metadata": {},
     "output_type": "execute_result"
    }
   ],
   "source": [
    "type(mi_string)"
   ]
  },
  {
   "cell_type": "code",
   "execution_count": 9,
   "metadata": {},
   "outputs": [
    {
     "data": {
      "text/plain": [
       "float"
      ]
     },
     "execution_count": 9,
     "metadata": {},
     "output_type": "execute_result"
    }
   ],
   "source": [
    "type(num_float)"
   ]
  },
  {
   "cell_type": "code",
   "execution_count": 10,
   "metadata": {},
   "outputs": [
    {
     "data": {
      "text/plain": [
       "bool"
      ]
     },
     "execution_count": 10,
     "metadata": {},
     "output_type": "execute_result"
    }
   ],
   "source": [
    "type(paco_es_el_mejor)"
   ]
  },
  {
   "cell_type": "markdown",
   "metadata": {},
   "source": [
    "## Operadores aritméticos\n",
    "\n",
    "Python puede considerarse, en su nivel más bajo, como una calculadora. Para ello utiliza *operadores aritméticos*, los cuales se resumen en la siguiente tabla:\n",
    "\n",
    "|Símbolo | Operación | Ejemplo |\n",
    "|:---:|:---:|:---:|\n",
    "| + | Suma | `10 + 5`|\n",
    "| - | Resta | `12-7811210`|\n",
    "| * | Producto | `2*2*3*5*7`|\n",
    "| ** | Exponenciación | `2**6` |\n",
    "| / | División | `42/7`|\n",
    "| % | Módulo | `8/3` |\n",
    "| // | División (piso) | `49/42` |\n",
    "\n",
    "Ejemplo: Cálculo del interés\n",
    "\n",
    "El interés que se paga por una cantidad de dinero tomado en calidad de préstamo, depende de la condición del contrato y varía respecto a la cantidad de dinero prestado, el tiempo de duración del pago y la tasa de interés. Se calcula a través de la siguiente expresión:\n",
    "\n",
    "$$I = C_0 \\cdot n \\cdot t $$\n",
    "\n",
    "donde $C_0$ es la cantidad prestada, $n$ el periodo del contrato (el tiempo para el pago) y $t$ es la tasa de interés anual.\n",
    "\n",
    "Calculemos el interés que obtiene Andrés por un préstamo de $75,000 por un periodo de 3 años a una tasa de interés anual del 19%.\n",
    "\n",
    "Podemos declarar las variables que se utilizan para calcularlo y hacer las operaciones."
   ]
  },
  {
   "cell_type": "code",
   "execution_count": 11,
   "metadata": {},
   "outputs": [
    {
     "name": "stdout",
     "output_type": "stream",
     "text": [
      "El interés que generó Andrés por su préstamo es de $ 42750.0\n"
     ]
    }
   ],
   "source": [
    "# Interés del préstamo\n",
    "\n",
    "c0 = 75000 # cantidad $\n",
    "\n",
    "n = 3 # duración (años)\n",
    "\n",
    "t = 0.19 # tasa de interés\n",
    "\n",
    "I = c0 * n * t # calculo del interés de acuerdo a la fórmula\n",
    "\n",
    "print(\"El interés que generó Andrés por su préstamo es de $\", I)\n",
    "\n"
   ]
  },
  {
   "cell_type": "markdown",
   "metadata": {},
   "source": [
    "## Comentarios\n",
    "\n",
    "Un script no necesariamente contiene sólo comandos de Python. También podemos incluir *comentarios* que no son otra cosa mas que notas que, como programadores, indicamos en el código para comprenderlo mejor.\n",
    "\n",
    "La sintaxis para utilizarlos es poner un gato `#` y dejar un espacio en blanco para escribir el texto. Al ejecutar el código, Python ignorará todo lo que esté después del `#`.\n",
    "\n",
    "Para hacer comentarios de varias líneas, basta con poner tres pares de comillas simples `''''''`.\n",
    "\n",
    "Ejemplo:"
   ]
  },
  {
   "cell_type": "code",
   "execution_count": 12,
   "metadata": {},
   "outputs": [],
   "source": [
    "a = 16 # Esto es un comentario simple, Python lo ignora\n",
    "\n",
    "'''Esto es un comentario de varias líneas\n",
    "   Python también lo va a ignorar, muchas veces se requiere mayor documentación\n",
    "   Así que puedes utilizarlas para escribir con mayor detalle\n",
    "'''\n",
    "\n",
    "b = a + 5"
   ]
  },
  {
   "cell_type": "markdown",
   "metadata": {},
   "source": [
    "## Colecciones\n",
    "\n",
    "Es muy común y útil, dentro de la programación, manejar *colecciones de datos*, que se reúnen en objetos conocidos como *contenedores* y que son asignados a una sola variable.\n",
    "\n",
    "Además de los tipos de datos que ya vimos, añadimos tres nuevos tipos que son más complejos. Estos tipos pueden almacenar colecciones de datos de diversos tipos y se diferencían entre sí por su sintaxis y por la forma en la que los datos pueden ser manipulados.\n",
    "\n",
    "- Tuplas (`tuple`)\n",
    "\n",
    "Una *tupla* es una variable que permite almacenar una colección de datos *inmutables* (es decir que no se pueden modificar una vez que son creados). Los datos pueden ser de tipos diferentes.\n",
    "\n",
    "Ejemplo:"
   ]
  },
  {
   "cell_type": "code",
   "execution_count": 13,
   "metadata": {},
   "outputs": [],
   "source": [
    "mi_tupla = (\"mamma mia\", 73, 4.55, 'más datos', 1.)"
   ]
  },
  {
   "cell_type": "markdown",
   "metadata": {},
   "source": [
    "## Indices y slicings\n",
    "\n",
    "Podemos acceder a cada uno de los datos que contiene la tupla a través de su índice correspondiente. El índice es la posición que ocupa un dato dentro de la tupla. Los datos se definen en un orden particular, y dicho orden se empieza a contar **a partir del 0**. Esto es una característica de Python, ya que otros lenguajes comienzan a indexar a partir del 1. \n",
    "\n",
    "Entonces, el primer dato tiene índice 0, el segundo el índice 1, y así sucesivamente.\n",
    "\n",
    "\n",
    "<p align=\"center\">\n",
    "  <img src=\"img/indices.png\" />\n",
    "</p>\n",
    "\n",
    "La variable `mi_tupla` tiene 5 elementos, por lo que decimos que tiene **longitud = 5**.\n",
    "\n",
    "Entonces, para obtener el primer elemento de la tupla, conociendo su índice, la sintaxis es la siguiente:"
   ]
  },
  {
   "cell_type": "code",
   "execution_count": 14,
   "metadata": {},
   "outputs": [
    {
     "data": {
      "text/plain": [
       "'mamma mia'"
      ]
     },
     "execution_count": 14,
     "metadata": {},
     "output_type": "execute_result"
    }
   ],
   "source": [
    "mi_tupla[0]"
   ]
  },
  {
   "cell_type": "markdown",
   "metadata": {},
   "source": [
    "Al correr se imprime el dato que ocupa la primer posición dentro de la tupla. Otro ejemplo, si queremos obtener el cuarto elemento de la tupla, considerando que la indexación comienza en 0, el índice sería **3**."
   ]
  },
  {
   "cell_type": "code",
   "execution_count": 15,
   "metadata": {},
   "outputs": [
    {
     "data": {
      "text/plain": [
       "'más datos'"
      ]
     },
     "execution_count": 15,
     "metadata": {},
     "output_type": "execute_result"
    }
   ],
   "source": [
    "mi_tupla[3]"
   ]
  },
  {
   "cell_type": "markdown",
   "metadata": {},
   "source": [
    "Si por otro lado, quisiéramos conocer el último elemento de la tupla, sin conocer la longitud de la tupla, índicamos el último índice como **-1**, el penúltimo como **-2**, y así sucesivamente."
   ]
  },
  {
   "cell_type": "code",
   "execution_count": 16,
   "metadata": {},
   "outputs": [
    {
     "data": {
      "text/plain": [
       "1.0"
      ]
     },
     "execution_count": 16,
     "metadata": {},
     "output_type": "execute_result"
    }
   ],
   "source": [
    "mi_tupla[-1]"
   ]
  },
  {
   "cell_type": "markdown",
   "metadata": {},
   "source": [
    "También se puede acceder a una porción de los datos en la tupla. Esto se conoce como *slicing* y la sintaxis es que dentro de los corchetes `[]` se indica desde el primer índice que consideremos hasta el índice final que queramos separándolos con `:`.\n",
    "\n",
    "Algo a considerar es que un *slice* en Python siempre nos va a devolver los datos hasta una posición antes del índice final que indiquemos.\n",
    "\n",
    "Por ejemplo, si queremos obtener del segundo al cuarto dato, escribimos:"
   ]
  },
  {
   "cell_type": "code",
   "execution_count": 17,
   "metadata": {},
   "outputs": [
    {
     "data": {
      "text/plain": [
       "(73, 4.55, 'más datos')"
      ]
     },
     "execution_count": 17,
     "metadata": {},
     "output_type": "execute_result"
    }
   ],
   "source": [
    "mi_tupla[1:4]"
   ]
  },
  {
   "cell_type": "markdown",
   "metadata": {},
   "source": [
    "También se pueden obtener los datos a partir de un índice particular y no poner un índice final. Esto nos devolverá todos los datos a partir del índice seleccionado."
   ]
  },
  {
   "cell_type": "code",
   "execution_count": 18,
   "metadata": {},
   "outputs": [
    {
     "data": {
      "text/plain": [
       "(4.55, 'más datos', 1.0)"
      ]
     },
     "execution_count": 18,
     "metadata": {},
     "output_type": "execute_result"
    }
   ],
   "source": [
    "mi_tupla[2:]"
   ]
  },
  {
   "cell_type": "markdown",
   "metadata": {},
   "source": [
    "Y visceversa."
   ]
  },
  {
   "cell_type": "code",
   "execution_count": 19,
   "metadata": {},
   "outputs": [
    {
     "data": {
      "text/plain": [
       "('mamma mia', 73)"
      ]
     },
     "execution_count": 19,
     "metadata": {},
     "output_type": "execute_result"
    }
   ],
   "source": [
    "mi_tupla[:2]"
   ]
  },
  {
   "cell_type": "markdown",
   "metadata": {},
   "source": [
    "Notemos que en este último caso, se mantiene la regla de que devuelve los datos hasta $i-1$.\n",
    "\n",
    "## Listas\n",
    "\n",
    "Una *lista* es similar a una tupla, con la diferencia fundamental de que nos permite modificar los datos una vez que han sido creados. Las listas se crean de la siguiente forma.\n",
    "\n",
    "Ejemplo:"
   ]
  },
  {
   "cell_type": "code",
   "execution_count": 21,
   "metadata": {},
   "outputs": [],
   "source": [
    "mi_lista = [\"Delta Sleep\", 21, \"Letters\", 30.2, 'Strongthany', True]"
   ]
  },
  {
   "cell_type": "markdown",
   "metadata": {},
   "source": [
    "Notemos que la diferencia de sintaxis entre tuplas y listas es que las tuplas se definen con `()` y las listas con `[]`. \n",
    "\n",
    "De la misma forma que con las tuplas, podemos acceder a los elementos de las listas utilizando sus índices."
   ]
  },
  {
   "cell_type": "code",
   "execution_count": 22,
   "metadata": {},
   "outputs": [
    {
     "data": {
      "text/plain": [
       "'Letters'"
      ]
     },
     "execution_count": 22,
     "metadata": {},
     "output_type": "execute_result"
    }
   ],
   "source": [
    "mi_lista[2]"
   ]
  },
  {
   "cell_type": "code",
   "execution_count": 23,
   "metadata": {},
   "outputs": [
    {
     "data": {
      "text/plain": [
       "True"
      ]
     },
     "execution_count": 23,
     "metadata": {},
     "output_type": "execute_result"
    }
   ],
   "source": [
    "mi_lista[-1]"
   ]
  },
  {
   "cell_type": "code",
   "execution_count": 24,
   "metadata": {},
   "outputs": [
    {
     "data": {
      "text/plain": [
       "'Delta Sleep'"
      ]
     },
     "execution_count": 24,
     "metadata": {},
     "output_type": "execute_result"
    }
   ],
   "source": [
    "mi_lista[0]"
   ]
  },
  {
   "cell_type": "markdown",
   "metadata": {},
   "source": [
    "Como mencionamos, la principal diferencia entre las listas y las tuplas es que en las listas, sus elementos son mutables: podemos cambiar sus valores. Si por ejemplo, en `mi_lista` me equivoqué en una entrada, podemos reemplazarlo.\n",
    "\n",
    "Ejemplo:"
   ]
  },
  {
   "cell_type": "code",
   "execution_count": 25,
   "metadata": {},
   "outputs": [],
   "source": [
    "mi_lista[0] = 'chon'"
   ]
  },
  {
   "cell_type": "code",
   "execution_count": 26,
   "metadata": {},
   "outputs": [
    {
     "data": {
      "text/plain": [
       "['chon', 21, 'Letters', 30.2, 'Strongthany', True]"
      ]
     },
     "execution_count": 26,
     "metadata": {},
     "output_type": "execute_result"
    }
   ],
   "source": [
    "mi_lista"
   ]
  },
  {
   "cell_type": "markdown",
   "metadata": {},
   "source": [
    "Comprobemos que los elementos de las tuplas son inmutables:"
   ]
  },
  {
   "cell_type": "code",
   "execution_count": 27,
   "metadata": {},
   "outputs": [
    {
     "ename": "TypeError",
     "evalue": "'tuple' object does not support item assignment",
     "output_type": "error",
     "traceback": [
      "\u001b[1;31m---------------------------------------------------------------------------\u001b[0m",
      "\u001b[1;31mTypeError\u001b[0m                                 Traceback (most recent call last)",
      "Cell \u001b[1;32mIn[27], line 1\u001b[0m\n\u001b[1;32m----> 1\u001b[0m \u001b[43mmi_tupla\u001b[49m\u001b[43m[\u001b[49m\u001b[38;5;241;43m2\u001b[39;49m\u001b[43m]\u001b[49m \u001b[38;5;241m=\u001b[39m \u001b[38;5;241m6\u001b[39m\n",
      "\u001b[1;31mTypeError\u001b[0m: 'tuple' object does not support item assignment"
     ]
    }
   ],
   "source": [
    "mi_tupla[2] = 6"
   ]
  },
  {
   "cell_type": "markdown",
   "metadata": {},
   "source": [
    "Obtenemos un `TypeError` (errores asociados al tipo de variable), con el mensaje `'tuple' object does not support item assignment`, lo que confirma lo que dijimos sobre su inmutabilidad.\n",
    "\n",
    "Otra ventaja de las listas sobre las tuplas es que podemos añadir nuevos datos. Se entiende que se añade en orden, es decir, estará a la derecha del último dato de la lista original.\n",
    "\n",
    "Para esto se utiliza la función `append()`.\n",
    "\n",
    "Ejemplo:"
   ]
  },
  {
   "cell_type": "code",
   "execution_count": 29,
   "metadata": {},
   "outputs": [],
   "source": [
    "mi_lista.append('Sofa boy')"
   ]
  },
  {
   "cell_type": "code",
   "execution_count": 30,
   "metadata": {},
   "outputs": [
    {
     "data": {
      "text/plain": [
       "['chon', 21, 'Letters', 30.2, 'Strongthany', True, 'Sofa boy']"
      ]
     },
     "execution_count": 30,
     "metadata": {},
     "output_type": "execute_result"
    }
   ],
   "source": [
    "mi_lista"
   ]
  },
  {
   "cell_type": "markdown",
   "metadata": {},
   "source": []
  },
  {
   "cell_type": "code",
   "execution_count": null,
   "metadata": {},
   "outputs": [],
   "source": []
  }
 ],
 "metadata": {
  "kernelspec": {
   "display_name": "Python 3",
   "language": "python",
   "name": "python3"
  },
  "language_info": {
   "codemirror_mode": {
    "name": "ipython",
    "version": 3
   },
   "file_extension": ".py",
   "mimetype": "text/x-python",
   "name": "python",
   "nbconvert_exporter": "python",
   "pygments_lexer": "ipython3",
   "version": "3.12.1"
  }
 },
 "nbformat": 4,
 "nbformat_minor": 2
}
